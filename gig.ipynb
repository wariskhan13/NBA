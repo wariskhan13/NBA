{
 "cells": [
  {
   "cell_type": "code",
   "execution_count": 1,
   "metadata": {},
   "outputs": [],
   "source": [
    "# import pandas library\n",
    "import pandas as pd"
   ]
  },
  {
   "cell_type": "code",
   "execution_count": 2,
   "metadata": {
    "scrolled": true
   },
   "outputs": [],
   "source": [
    "# Load the data using \"read_csv\" method\n",
    "nba = pd.read_csv('NBA_players_stats.csv')"
   ]
  },
  {
   "cell_type": "code",
   "execution_count": 3,
   "metadata": {
    "scrolled": true
   },
   "outputs": [
    {
     "data": {
      "text/html": [
       "<div>\n",
       "<style scoped>\n",
       "    .dataframe tbody tr th:only-of-type {\n",
       "        vertical-align: middle;\n",
       "    }\n",
       "\n",
       "    .dataframe tbody tr th {\n",
       "        vertical-align: top;\n",
       "    }\n",
       "\n",
       "    .dataframe thead th {\n",
       "        text-align: right;\n",
       "    }\n",
       "</style>\n",
       "<table border=\"1\" class=\"dataframe\">\n",
       "  <thead>\n",
       "    <tr style=\"text-align: right;\">\n",
       "      <th></th>\n",
       "      <th>Rk</th>\n",
       "      <th>Player</th>\n",
       "      <th>Pos</th>\n",
       "      <th>Age</th>\n",
       "      <th>Tm</th>\n",
       "      <th>G</th>\n",
       "      <th>GS</th>\n",
       "      <th>MP</th>\n",
       "      <th>FG</th>\n",
       "      <th>FGA</th>\n",
       "      <th>...</th>\n",
       "      <th>FT%</th>\n",
       "      <th>ORB</th>\n",
       "      <th>DRB</th>\n",
       "      <th>TRB</th>\n",
       "      <th>AST</th>\n",
       "      <th>STL</th>\n",
       "      <th>BLK</th>\n",
       "      <th>TOV</th>\n",
       "      <th>PF</th>\n",
       "      <th>PTS</th>\n",
       "    </tr>\n",
       "  </thead>\n",
       "  <tbody>\n",
       "    <tr>\n",
       "      <th>0</th>\n",
       "      <td>1</td>\n",
       "      <td>Precious Achiuwa</td>\n",
       "      <td>PF</td>\n",
       "      <td>21</td>\n",
       "      <td>MIA</td>\n",
       "      <td>35</td>\n",
       "      <td>2</td>\n",
       "      <td>491</td>\n",
       "      <td>84</td>\n",
       "      <td>145</td>\n",
       "      <td>...</td>\n",
       "      <td>0.543</td>\n",
       "      <td>46</td>\n",
       "      <td>95</td>\n",
       "      <td>141</td>\n",
       "      <td>20</td>\n",
       "      <td>15</td>\n",
       "      <td>19</td>\n",
       "      <td>32</td>\n",
       "      <td>58</td>\n",
       "      <td>212</td>\n",
       "    </tr>\n",
       "    <tr>\n",
       "      <th>1</th>\n",
       "      <td>2</td>\n",
       "      <td>Jaylen Adams</td>\n",
       "      <td>PG</td>\n",
       "      <td>24</td>\n",
       "      <td>MIL</td>\n",
       "      <td>7</td>\n",
       "      <td>0</td>\n",
       "      <td>18</td>\n",
       "      <td>1</td>\n",
       "      <td>8</td>\n",
       "      <td>...</td>\n",
       "      <td>NaN</td>\n",
       "      <td>0</td>\n",
       "      <td>3</td>\n",
       "      <td>3</td>\n",
       "      <td>2</td>\n",
       "      <td>0</td>\n",
       "      <td>0</td>\n",
       "      <td>0</td>\n",
       "      <td>1</td>\n",
       "      <td>20000</td>\n",
       "    </tr>\n",
       "    <tr>\n",
       "      <th>2</th>\n",
       "      <td>3</td>\n",
       "      <td>Steven Adams</td>\n",
       "      <td>C</td>\n",
       "      <td>27</td>\n",
       "      <td>NOP</td>\n",
       "      <td>33</td>\n",
       "      <td>33</td>\n",
       "      <td>918</td>\n",
       "      <td>115</td>\n",
       "      <td>187</td>\n",
       "      <td>...</td>\n",
       "      <td>0.443</td>\n",
       "      <td>133</td>\n",
       "      <td>161</td>\n",
       "      <td>294</td>\n",
       "      <td>69</td>\n",
       "      <td>29</td>\n",
       "      <td>20</td>\n",
       "      <td>50</td>\n",
       "      <td>63</td>\n",
       "      <td>265</td>\n",
       "    </tr>\n",
       "    <tr>\n",
       "      <th>3</th>\n",
       "      <td>4</td>\n",
       "      <td>Bam Adebayo</td>\n",
       "      <td>C</td>\n",
       "      <td>23</td>\n",
       "      <td>MIA</td>\n",
       "      <td>33</td>\n",
       "      <td>33</td>\n",
       "      <td>1119</td>\n",
       "      <td>236</td>\n",
       "      <td>419</td>\n",
       "      <td>...</td>\n",
       "      <td>0.847</td>\n",
       "      <td>72</td>\n",
       "      <td>241</td>\n",
       "      <td>313</td>\n",
       "      <td>179</td>\n",
       "      <td>29</td>\n",
       "      <td>34</td>\n",
       "      <td>98</td>\n",
       "      <td>80</td>\n",
       "      <td>634</td>\n",
       "    </tr>\n",
       "    <tr>\n",
       "      <th>4</th>\n",
       "      <td>5</td>\n",
       "      <td>LaMarcus Aldridge</td>\n",
       "      <td>C</td>\n",
       "      <td>35</td>\n",
       "      <td>SAS</td>\n",
       "      <td>21</td>\n",
       "      <td>18</td>\n",
       "      <td>544</td>\n",
       "      <td>115</td>\n",
       "      <td>248</td>\n",
       "      <td>...</td>\n",
       "      <td>0.838</td>\n",
       "      <td>17</td>\n",
       "      <td>77</td>\n",
       "      <td>94</td>\n",
       "      <td>36</td>\n",
       "      <td>8</td>\n",
       "      <td>18</td>\n",
       "      <td>20</td>\n",
       "      <td>36</td>\n",
       "      <td>28800</td>\n",
       "    </tr>\n",
       "    <tr>\n",
       "      <th>...</th>\n",
       "      <td>...</td>\n",
       "      <td>...</td>\n",
       "      <td>...</td>\n",
       "      <td>...</td>\n",
       "      <td>...</td>\n",
       "      <td>...</td>\n",
       "      <td>...</td>\n",
       "      <td>...</td>\n",
       "      <td>...</td>\n",
       "      <td>...</td>\n",
       "      <td>...</td>\n",
       "      <td>...</td>\n",
       "      <td>...</td>\n",
       "      <td>...</td>\n",
       "      <td>...</td>\n",
       "      <td>...</td>\n",
       "      <td>...</td>\n",
       "      <td>...</td>\n",
       "      <td>...</td>\n",
       "      <td>...</td>\n",
       "      <td>...</td>\n",
       "    </tr>\n",
       "    <tr>\n",
       "      <th>507</th>\n",
       "      <td>488</td>\n",
       "      <td>Delon Wright</td>\n",
       "      <td>SG</td>\n",
       "      <td>28</td>\n",
       "      <td>DET</td>\n",
       "      <td>29</td>\n",
       "      <td>24</td>\n",
       "      <td>848</td>\n",
       "      <td>110</td>\n",
       "      <td>235</td>\n",
       "      <td>...</td>\n",
       "      <td>0.785</td>\n",
       "      <td>32</td>\n",
       "      <td>101</td>\n",
       "      <td>133</td>\n",
       "      <td>141</td>\n",
       "      <td>42</td>\n",
       "      <td>15</td>\n",
       "      <td>35</td>\n",
       "      <td>32</td>\n",
       "      <td>310</td>\n",
       "    </tr>\n",
       "    <tr>\n",
       "      <th>508</th>\n",
       "      <td>489</td>\n",
       "      <td>Thaddeus Young</td>\n",
       "      <td>PF</td>\n",
       "      <td>32</td>\n",
       "      <td>CHI</td>\n",
       "      <td>30</td>\n",
       "      <td>0</td>\n",
       "      <td>760</td>\n",
       "      <td>167</td>\n",
       "      <td>274</td>\n",
       "      <td>...</td>\n",
       "      <td>0.500</td>\n",
       "      <td>71</td>\n",
       "      <td>105</td>\n",
       "      <td>176</td>\n",
       "      <td>131</td>\n",
       "      <td>42</td>\n",
       "      <td>17</td>\n",
       "      <td>56</td>\n",
       "      <td>81</td>\n",
       "      <td>362</td>\n",
       "    </tr>\n",
       "    <tr>\n",
       "      <th>509</th>\n",
       "      <td>490</td>\n",
       "      <td>Trae Young</td>\n",
       "      <td>PG</td>\n",
       "      <td>22</td>\n",
       "      <td>ATL</td>\n",
       "      <td>34</td>\n",
       "      <td>34</td>\n",
       "      <td>1182</td>\n",
       "      <td>262</td>\n",
       "      <td>610</td>\n",
       "      <td>...</td>\n",
       "      <td>0.878</td>\n",
       "      <td>25</td>\n",
       "      <td>117</td>\n",
       "      <td>142</td>\n",
       "      <td>321</td>\n",
       "      <td>30</td>\n",
       "      <td>8</td>\n",
       "      <td>149</td>\n",
       "      <td>70</td>\n",
       "      <td>897</td>\n",
       "    </tr>\n",
       "    <tr>\n",
       "      <th>510</th>\n",
       "      <td>491</td>\n",
       "      <td>Cody Zeller</td>\n",
       "      <td>C</td>\n",
       "      <td>28</td>\n",
       "      <td>CHO</td>\n",
       "      <td>18</td>\n",
       "      <td>15</td>\n",
       "      <td>421</td>\n",
       "      <td>73</td>\n",
       "      <td>142</td>\n",
       "      <td>...</td>\n",
       "      <td>0.758</td>\n",
       "      <td>46</td>\n",
       "      <td>90</td>\n",
       "      <td>136</td>\n",
       "      <td>44</td>\n",
       "      <td>11</td>\n",
       "      <td>11</td>\n",
       "      <td>20</td>\n",
       "      <td>47</td>\n",
       "      <td>174</td>\n",
       "    </tr>\n",
       "    <tr>\n",
       "      <th>511</th>\n",
       "      <td>492</td>\n",
       "      <td>Ivica Zubac</td>\n",
       "      <td>C</td>\n",
       "      <td>23</td>\n",
       "      <td>LAC</td>\n",
       "      <td>38</td>\n",
       "      <td>1</td>\n",
       "      <td>753</td>\n",
       "      <td>120</td>\n",
       "      <td>182</td>\n",
       "      <td>...</td>\n",
       "      <td>0.826</td>\n",
       "      <td>90</td>\n",
       "      <td>176</td>\n",
       "      <td>266</td>\n",
       "      <td>43</td>\n",
       "      <td>14</td>\n",
       "      <td>30</td>\n",
       "      <td>39</td>\n",
       "      <td>228</td>\n",
       "      <td>311</td>\n",
       "    </tr>\n",
       "  </tbody>\n",
       "</table>\n",
       "<p>512 rows × 29 columns</p>\n",
       "</div>"
      ],
      "text/plain": [
       "      Rk             Player Pos  Age    Tm   G  GS    MP   FG  FGA  ...  \\\n",
       "0      1   Precious Achiuwa  PF   21   MIA  35   2   491   84  145  ...   \n",
       "1      2       Jaylen Adams  PG   24   MIL   7   0    18    1    8  ...   \n",
       "2      3       Steven Adams   C   27   NOP  33  33   918  115  187  ...   \n",
       "3      4        Bam Adebayo   C   23   MIA  33  33  1119  236  419  ...   \n",
       "4      5  LaMarcus Aldridge   C   35  SAS   21  18   544  115  248  ...   \n",
       "..   ...                ...  ..  ...   ...  ..  ..   ...  ...  ...  ...   \n",
       "507  488       Delon Wright  SG   28   DET  29  24   848  110  235  ...   \n",
       "508  489     Thaddeus Young  PF   32   CHI  30   0   760  167  274  ...   \n",
       "509  490         Trae Young  PG   22   ATL  34  34  1182  262  610  ...   \n",
       "510  491        Cody Zeller   C   28   CHO  18  15   421   73  142  ...   \n",
       "511  492        Ivica Zubac   C   23   LAC  38   1   753  120  182  ...   \n",
       "\n",
       "       FT%  ORB  DRB  TRB  AST  STL  BLK  TOV   PF    PTS  \n",
       "0    0.543   46   95  141   20   15   19   32   58    212  \n",
       "1      NaN    0    3    3    2    0    0    0    1  20000  \n",
       "2    0.443  133  161  294   69   29   20   50   63    265  \n",
       "3    0.847   72  241  313  179   29   34   98   80    634  \n",
       "4    0.838   17   77   94   36    8   18   20   36  28800  \n",
       "..     ...  ...  ...  ...  ...  ...  ...  ...  ...    ...  \n",
       "507  0.785   32  101  133  141   42   15   35   32    310  \n",
       "508  0.500   71  105  176  131   42   17   56   81    362  \n",
       "509  0.878   25  117  142  321   30    8  149   70    897  \n",
       "510  0.758   46   90  136   44   11   11   20   47    174  \n",
       "511  0.826   90  176  266   43   14   30   39  228    311  \n",
       "\n",
       "[512 rows x 29 columns]"
      ]
     },
     "execution_count": 3,
     "metadata": {},
     "output_type": "execute_result"
    }
   ],
   "source": [
    "# Have a look at the whole dataset\n",
    "nba"
   ]
  },
  {
   "cell_type": "code",
   "execution_count": 4,
   "metadata": {
    "scrolled": false
   },
   "outputs": [
    {
     "data": {
      "text/plain": [
       "array([ 21,  24,  27,  23,  35,  22,  25,  30,  26,  28,  36,  20,  33,\n",
       "        19,  32,  34,  31,  29, 280, -19,  37], dtype=int64)"
      ]
     },
     "execution_count": 4,
     "metadata": {},
     "output_type": "execute_result"
    }
   ],
   "source": [
    "# Since the data loaded is same as the source data, we can procees to the next step\n",
    "# Lets see all the unique values inside the \"Age\" column\n",
    "nba['Age'].unique()"
   ]
  },
  {
   "cell_type": "code",
   "execution_count": null,
   "metadata": {},
   "outputs": [],
   "source": [
    "# We see that we have ages like 280, -19\n",
    "# These are the errors we have to deal with"
   ]
  },
  {
   "cell_type": "code",
   "execution_count": 5,
   "metadata": {
    "scrolled": false
   },
   "outputs": [],
   "source": [
    "# Since age cannot be Negative and also cannot exceed more than 120 years\n",
    "# Lets define a lambda function to fix this error\n",
    "# Lambda functions are anonymous functions"
   ]
  },
  {
   "cell_type": "code",
   "execution_count": 7,
   "metadata": {},
   "outputs": [],
   "source": [
    "# Lets handle the negative value first\n",
    "nba['Age'] = nba['Age'].apply(lambda x : x if x > 0 else x*-1)"
   ]
  },
  {
   "cell_type": "code",
   "execution_count": 8,
   "metadata": {
    "scrolled": true
   },
   "outputs": [
    {
     "data": {
      "text/plain": [
       "22     54\n",
       "23     52\n",
       "25     48\n",
       "24     43\n",
       "27     41\n",
       "21     40\n",
       "26     38\n",
       "28     37\n",
       "20     27\n",
       "30     25\n",
       "29     23\n",
       "32     21\n",
       "31     19\n",
       "19     13\n",
       "34     11\n",
       "33      7\n",
       "35      7\n",
       "36      4\n",
       "37      1\n",
       "280     1\n",
       "Name: Age, dtype: int64"
      ]
     },
     "execution_count": 8,
     "metadata": {},
     "output_type": "execute_result"
    }
   ],
   "source": [
    "# Have a peek at the unique values\n",
    "nba['Age'].value_counts()"
   ]
  },
  {
   "cell_type": "code",
   "execution_count": 9,
   "metadata": {},
   "outputs": [],
   "source": [
    "# We got the negative value converted to positive using 'Lambda' function\n",
    "# Similarly we can use the lambda function for values greater than 120\n",
    "nba['Age'] = nba['Age'].apply(lambda x : x if x < 120 else x//10)"
   ]
  },
  {
   "cell_type": "code",
   "execution_count": 10,
   "metadata": {
    "scrolled": true
   },
   "outputs": [
    {
     "data": {
      "text/plain": [
       "array([21, 24, 27, 23, 35, 22, 25, 30, 26, 28, 36, 20, 33, 19, 32, 34, 31,\n",
       "       29, 37], dtype=int64)"
      ]
     },
     "execution_count": 10,
     "metadata": {},
     "output_type": "execute_result"
    }
   ],
   "source": [
    "# Check for all the values inside the column\n",
    "nba['Age'].unique()"
   ]
  },
  {
   "cell_type": "code",
   "execution_count": 11,
   "metadata": {
    "scrolled": true
   },
   "outputs": [
    {
     "data": {
      "text/plain": [
       "22    54\n",
       "23    52\n",
       "25    48\n",
       "24    43\n",
       "27    41\n",
       "21    40\n",
       "28    38\n",
       "26    38\n",
       "20    27\n",
       "30    25\n",
       "29    23\n",
       "32    21\n",
       "31    19\n",
       "19    13\n",
       "34    11\n",
       "33     7\n",
       "35     7\n",
       "36     4\n",
       "37     1\n",
       "Name: Age, dtype: int64"
      ]
     },
     "execution_count": 11,
     "metadata": {},
     "output_type": "execute_result"
    }
   ],
   "source": [
    "# Seems like we got this column clean\n",
    "# Lets verify\n",
    "nba['Age'].value_counts()"
   ]
  },
  {
   "cell_type": "code",
   "execution_count": null,
   "metadata": {},
   "outputs": [],
   "source": [
    "# We got the 'Age' column clean"
   ]
  },
  {
   "cell_type": "code",
   "execution_count": 12,
   "metadata": {},
   "outputs": [],
   "source": [
    "# Now lets have a look at the 'Pos' column for all unique values"
   ]
  },
  {
   "cell_type": "code",
   "execution_count": 13,
   "metadata": {
    "scrolled": true
   },
   "outputs": [
    {
     "data": {
      "text/plain": [
       "array(['PF', 'PG', 'C', 'SG', 'SG ', 'SF', 'SGa', 'SF.', 'PFa', 'PF ',\n",
       "       'C ', ' PG', 'PG-SG ', 'sg', 'Sf', ' SG', 'SF-PF', 'pg', ' SF',\n",
       "       'Pg'], dtype=object)"
      ]
     },
     "execution_count": 13,
     "metadata": {},
     "output_type": "execute_result"
    }
   ],
   "source": [
    "nba['Pos'].unique()"
   ]
  },
  {
   "cell_type": "code",
   "execution_count": 14,
   "metadata": {},
   "outputs": [],
   "source": [
    "# It has some typo and whitespace errors"
   ]
  },
  {
   "cell_type": "code",
   "execution_count": 15,
   "metadata": {},
   "outputs": [],
   "source": [
    "# Lets get rid of the Whitespace error using \"strip\" method\n",
    "nba['Pos'] = nba['Pos'].str.strip()"
   ]
  },
  {
   "cell_type": "code",
   "execution_count": 16,
   "metadata": {
    "scrolled": true
   },
   "outputs": [
    {
     "data": {
      "text/plain": [
       "array(['PF', 'PG', 'C', 'SG', 'SF', 'SGa', 'SF.', 'PFa', 'PG-SG', 'sg',\n",
       "       'Sf', 'SF-PF', 'pg', 'Pg'], dtype=object)"
      ]
     },
     "execution_count": 16,
     "metadata": {},
     "output_type": "execute_result"
    }
   ],
   "source": [
    "# Check for all unique values again\n",
    "nba['Pos'].unique()"
   ]
  },
  {
   "cell_type": "code",
   "execution_count": 17,
   "metadata": {},
   "outputs": [],
   "source": [
    "# We got rid of the whitespaces but still left with the typing error.\n",
    "# First, lets convert them all to upper case\n",
    "nba['Pos'] = nba['Pos'].str.upper()"
   ]
  },
  {
   "cell_type": "code",
   "execution_count": 18,
   "metadata": {
    "scrolled": false
   },
   "outputs": [
    {
     "data": {
      "text/plain": [
       "array(['PF', 'PG', 'C', 'SG', 'SF', 'SGA', 'SF.', 'PFA', 'PG-SG', 'SF-PF'],\n",
       "      dtype=object)"
      ]
     },
     "execution_count": 18,
     "metadata": {},
     "output_type": "execute_result"
    }
   ],
   "source": [
    "# Lets check again for all the values\n",
    "nba['Pos'].unique()"
   ]
  },
  {
   "cell_type": "code",
   "execution_count": 19,
   "metadata": {},
   "outputs": [],
   "source": [
    "# Now lets replace everything that is not needed with a blank space using replace and regex method\n",
    "# This will help us clean this column effectively\n",
    "nba['Pos'] = nba['Pos'].replace(to_replace ='[A]', value = '', regex = True)\n",
    "nba['Pos'] = nba['Pos'].replace(to_replace ='[.]', value = '', regex = True)"
   ]
  },
  {
   "cell_type": "code",
   "execution_count": 20,
   "metadata": {
    "scrolled": true
   },
   "outputs": [
    {
     "data": {
      "text/plain": [
       "array(['PF', 'PG', 'C', 'SG', 'SF', 'PG-SG', 'SF-PF'], dtype=object)"
      ]
     },
     "execution_count": 20,
     "metadata": {},
     "output_type": "execute_result"
    }
   ],
   "source": [
    "# checking column again\n",
    "nba['Pos'].unique()"
   ]
  },
  {
   "cell_type": "code",
   "execution_count": 21,
   "metadata": {},
   "outputs": [
    {
     "data": {
      "text/plain": [
       "SG       123\n",
       "PF       104\n",
       "C        100\n",
       "PG        97\n",
       "SF        86\n",
       "SF-PF      1\n",
       "PG-SG      1\n",
       "Name: Pos, dtype: int64"
      ]
     },
     "execution_count": 21,
     "metadata": {},
     "output_type": "execute_result"
    }
   ],
   "source": [
    "nba['Pos'].value_counts()"
   ]
  },
  {
   "cell_type": "code",
   "execution_count": 22,
   "metadata": {},
   "outputs": [],
   "source": [
    "# Great, we shall now move forward with other columns"
   ]
  },
  {
   "cell_type": "code",
   "execution_count": 23,
   "metadata": {
    "scrolled": true
   },
   "outputs": [
    {
     "data": {
      "text/plain": [
       "array(['MIA', 'MIL', 'NOP', 'SAS ', ' PHO', 'MEM', ' TOT', 'BRK ', 'CLE',\n",
       "       'ORL', 'LAL', 'POR', 'TOR', 'CHI', 'WAS', 'PHO', 'UTA', 'SAC',\n",
       "       'CHO', 'NYK', 'DEN', 'SAS', 'LAC', 'GSW', 'OKC', 'MIN', 'DET',\n",
       "       'DAL', 'IND', 'ATL', 'PHI', 'BRK', 'BOS', 'HOU', 'OKC ', ' NOP',\n",
       "       ' PHI', 'DET ', 'TOT', ' BRK', ' IND', 'MIL ', ' SAS', 'ORL ',\n",
       "       ' ORL', 'CLE ', 'H0U', 'NyK', ' MEM', 'MIA ', ' WAS', 'IND ',\n",
       "       ' BOS', 'GSW ', 'MEM '], dtype=object)"
      ]
     },
     "execution_count": 23,
     "metadata": {},
     "output_type": "execute_result"
    }
   ],
   "source": [
    "# Lets have a look at the \"Tm\" column for all the unique values in it\n",
    "nba['Tm'].unique()"
   ]
  },
  {
   "cell_type": "code",
   "execution_count": 24,
   "metadata": {},
   "outputs": [],
   "source": [
    "# We have alot of errors like Typing errors, Whitespaces, Case errors"
   ]
  },
  {
   "cell_type": "code",
   "execution_count": 25,
   "metadata": {},
   "outputs": [],
   "source": [
    "# Lets deal with them one by one\n",
    "# Firstly let eradicate the whitespaces\n",
    "nba['Tm'] = nba['Tm'].str.strip()"
   ]
  },
  {
   "cell_type": "code",
   "execution_count": 26,
   "metadata": {
    "scrolled": true
   },
   "outputs": [
    {
     "data": {
      "text/plain": [
       "array(['MIA', 'MIL', 'NOP', 'SAS', 'PHO', 'MEM', 'TOT', 'BRK', 'CLE',\n",
       "       'ORL', 'LAL', 'POR', 'TOR', 'CHI', 'WAS', 'UTA', 'SAC', 'CHO',\n",
       "       'NYK', 'DEN', 'LAC', 'GSW', 'OKC', 'MIN', 'DET', 'DAL', 'IND',\n",
       "       'ATL', 'PHI', 'BOS', 'HOU', 'H0U', 'NyK'], dtype=object)"
      ]
     },
     "execution_count": 26,
     "metadata": {},
     "output_type": "execute_result"
    }
   ],
   "source": [
    "# Lets see the changes\n",
    "nba['Tm'].unique()"
   ]
  },
  {
   "cell_type": "code",
   "execution_count": 27,
   "metadata": {},
   "outputs": [],
   "source": [
    "# We are still left with Typing Error\n",
    "# Lets deal with them too"
   ]
  },
  {
   "cell_type": "code",
   "execution_count": 28,
   "metadata": {},
   "outputs": [],
   "source": [
    "# Lets use the upper case method\n",
    "nba['Tm'] = nba['Tm'].str.upper()"
   ]
  },
  {
   "cell_type": "code",
   "execution_count": 29,
   "metadata": {},
   "outputs": [
    {
     "data": {
      "text/plain": [
       "BRK    23\n",
       "WAS    19\n",
       "ORL    18\n",
       "DET    18\n",
       "NYK    18\n",
       "SAC    18\n",
       "HOU    18\n",
       "CLE    18\n",
       "DAL    17\n",
       "TOR    17\n",
       "IND    17\n",
       "CHI    17\n",
       "DEN    17\n",
       "PHI    17\n",
       "LAL    17\n",
       "MEM    16\n",
       "UTA    16\n",
       "OKC    16\n",
       "MIA    16\n",
       "SAS    16\n",
       "PHO    16\n",
       "MIN    16\n",
       "ATL    16\n",
       "BOS    16\n",
       "NOP    15\n",
       "LAC    15\n",
       "GSW    15\n",
       "MIL    15\n",
       "POR    14\n",
       "CHO    14\n",
       "TOT    10\n",
       "H0U     1\n",
       "Name: Tm, dtype: int64"
      ]
     },
     "execution_count": 29,
     "metadata": {},
     "output_type": "execute_result"
    }
   ],
   "source": [
    "nba['Tm'].value_counts()"
   ]
  },
  {
   "cell_type": "code",
   "execution_count": null,
   "metadata": {},
   "outputs": [],
   "source": [
    "# We can see we have a Typing error i.e., instead of 'O', 0 is written"
   ]
  },
  {
   "cell_type": "code",
   "execution_count": 30,
   "metadata": {},
   "outputs": [],
   "source": [
    "# We will again use the \"replace\" & 'regex' method to deal with it\n",
    "nba['Tm'] = nba['Tm'].replace(to_replace ='[0]', value = 'O', regex = True)"
   ]
  },
  {
   "cell_type": "code",
   "execution_count": 31,
   "metadata": {
    "scrolled": false
   },
   "outputs": [
    {
     "data": {
      "text/plain": [
       "array(['MIA', 'MIL', 'NOP', 'SAS', 'PHO', 'MEM', 'TOT', 'BRK', 'CLE',\n",
       "       'ORL', 'LAL', 'POR', 'TOR', 'CHI', 'WAS', 'UTA', 'SAC', 'CHO',\n",
       "       'NYK', 'DEN', 'LAC', 'GSW', 'OKC', 'MIN', 'DET', 'DAL', 'IND',\n",
       "       'ATL', 'PHI', 'BOS', 'HOU'], dtype=object)"
      ]
     },
     "execution_count": 31,
     "metadata": {},
     "output_type": "execute_result"
    }
   ],
   "source": [
    "# Lets check this column for all the values\n",
    "nba['Tm'].unique()"
   ]
  },
  {
   "cell_type": "code",
   "execution_count": 32,
   "metadata": {
    "scrolled": true
   },
   "outputs": [
    {
     "data": {
      "text/plain": [
       "BRK    23\n",
       "HOU    19\n",
       "WAS    19\n",
       "NYK    18\n",
       "SAC    18\n",
       "ORL    18\n",
       "CLE    18\n",
       "DET    18\n",
       "CHI    17\n",
       "TOR    17\n",
       "IND    17\n",
       "DAL    17\n",
       "LAL    17\n",
       "DEN    17\n",
       "PHI    17\n",
       "MIN    16\n",
       "MEM    16\n",
       "OKC    16\n",
       "BOS    16\n",
       "SAS    16\n",
       "ATL    16\n",
       "UTA    16\n",
       "PHO    16\n",
       "MIA    16\n",
       "LAC    15\n",
       "MIL    15\n",
       "GSW    15\n",
       "NOP    15\n",
       "POR    14\n",
       "CHO    14\n",
       "TOT    10\n",
       "Name: Tm, dtype: int64"
      ]
     },
     "execution_count": 32,
     "metadata": {},
     "output_type": "execute_result"
    }
   ],
   "source": [
    "nba['Tm'].value_counts()"
   ]
  },
  {
   "cell_type": "code",
   "execution_count": 33,
   "metadata": {},
   "outputs": [],
   "source": [
    "# We have cleaned the 'Tm' column"
   ]
  },
  {
   "cell_type": "code",
   "execution_count": 34,
   "metadata": {
    "scrolled": false
   },
   "outputs": [
    {
     "data": {
      "text/plain": [
       "Rk         0\n",
       "Player     0\n",
       "Pos        0\n",
       "Age        0\n",
       "Tm         0\n",
       "G          0\n",
       "GS         0\n",
       "MP         0\n",
       "FG         0\n",
       "FGA        0\n",
       "FG%        3\n",
       "3P         0\n",
       "3PA        0\n",
       "3P%       33\n",
       "2P         0\n",
       "2PA        0\n",
       "2P%        7\n",
       "FT         0\n",
       "FTA        0\n",
       "FT%       32\n",
       "ORB        0\n",
       "DRB        0\n",
       "TRB        0\n",
       "AST        0\n",
       "STL        0\n",
       "BLK        0\n",
       "TOV        0\n",
       "PF         0\n",
       "PTS        0\n",
       "dtype: int64"
      ]
     },
     "execution_count": 34,
     "metadata": {},
     "output_type": "execute_result"
    }
   ],
   "source": [
    "# Now lets handle missing values before proceeding any further\n",
    "# Firstly lets check for missing values\n",
    "nba.isnull().sum()"
   ]
  },
  {
   "cell_type": "code",
   "execution_count": 35,
   "metadata": {},
   "outputs": [],
   "source": [
    "# We have some 'Missing' values that need to be dealt with before any further calculation"
   ]
  },
  {
   "cell_type": "code",
   "execution_count": 36,
   "metadata": {},
   "outputs": [],
   "source": [
    "# We will use \"fillna\" method to fill the missing/null values with 0\n",
    "nba.fillna(0, inplace = True)"
   ]
  },
  {
   "cell_type": "code",
   "execution_count": 37,
   "metadata": {
    "scrolled": true
   },
   "outputs": [
    {
     "data": {
      "text/plain": [
       "Rk        0\n",
       "Player    0\n",
       "Pos       0\n",
       "Age       0\n",
       "Tm        0\n",
       "G         0\n",
       "GS        0\n",
       "MP        0\n",
       "FG        0\n",
       "FGA       0\n",
       "FG%       0\n",
       "3P        0\n",
       "3PA       0\n",
       "3P%       0\n",
       "2P        0\n",
       "2PA       0\n",
       "2P%       0\n",
       "FT        0\n",
       "FTA       0\n",
       "FT%       0\n",
       "ORB       0\n",
       "DRB       0\n",
       "TRB       0\n",
       "AST       0\n",
       "STL       0\n",
       "BLK       0\n",
       "TOV       0\n",
       "PF        0\n",
       "PTS       0\n",
       "dtype: int64"
      ]
     },
     "execution_count": 37,
     "metadata": {},
     "output_type": "execute_result"
    }
   ],
   "source": [
    "# Lets check again for Missing/Null values\n",
    "nba.isnull().sum()"
   ]
  },
  {
   "cell_type": "code",
   "execution_count": 38,
   "metadata": {},
   "outputs": [],
   "source": [
    "# Since we are done with handling the missing values,"
   ]
  },
  {
   "cell_type": "code",
   "execution_count": 39,
   "metadata": {},
   "outputs": [
    {
     "data": {
      "text/plain": [
       "0      0.543\n",
       "1      0.000\n",
       "2      0.443\n",
       "3      0.847\n",
       "4      0.838\n",
       "       ...  \n",
       "507    0.785\n",
       "508    0.500\n",
       "509    0.878\n",
       "510    0.758\n",
       "511    0.826\n",
       "Name: FT%, Length: 512, dtype: float64"
      ]
     },
     "execution_count": 39,
     "metadata": {},
     "output_type": "execute_result"
    }
   ],
   "source": [
    "# Now lets clean our percentage columns\n",
    "# Firstly lets have a look at them separately for clear understanding\n",
    "nba['FT%']"
   ]
  },
  {
   "cell_type": "code",
   "execution_count": 40,
   "metadata": {
    "scrolled": true
   },
   "outputs": [
    {
     "data": {
      "text/plain": [
       "0      0.579\n",
       "1      0.125\n",
       "2      0.615\n",
       "3      0.563\n",
       "4      0.464\n",
       "       ...  \n",
       "507    0.468\n",
       "508    0.609\n",
       "509    0.430\n",
       "510    0.514\n",
       "511    0.659\n",
       "Name: FG%, Length: 512, dtype: float64"
      ]
     },
     "execution_count": 40,
     "metadata": {},
     "output_type": "execute_result"
    }
   ],
   "source": [
    "# Lets have a look at our Percentage columns separately for better understanding\n",
    "nba['FG%']"
   ]
  },
  {
   "cell_type": "code",
   "execution_count": 41,
   "metadata": {
    "scrolled": true
   },
   "outputs": [
    {
     "data": {
      "text/plain": [
       "0      0.000\n",
       "1      0.000\n",
       "2      0.000\n",
       "3      0.050\n",
       "4      0.360\n",
       "       ...  \n",
       "507    0.384\n",
       "508    0.227\n",
       "509    0.378\n",
       "510    0.158\n",
       "511    0.000\n",
       "Name: 3P%, Length: 512, dtype: float64"
      ]
     },
     "execution_count": 41,
     "metadata": {},
     "output_type": "execute_result"
    }
   ],
   "source": [
    "nba['3P%']"
   ]
  },
  {
   "cell_type": "code",
   "execution_count": 42,
   "metadata": {
    "scrolled": true
   },
   "outputs": [
    {
     "data": {
      "text/plain": [
       "0      0.579\n",
       "1      0.167\n",
       "2      0.618\n",
       "3      0.567\n",
       "4      0.509\n",
       "       ...  \n",
       "507    0.506\n",
       "508    0.643\n",
       "509    0.460\n",
       "510    0.569\n",
       "511    0.663\n",
       "Name: 2P%, Length: 512, dtype: float64"
      ]
     },
     "execution_count": 42,
     "metadata": {},
     "output_type": "execute_result"
    }
   ],
   "source": [
    "nba['2P%']"
   ]
  },
  {
   "cell_type": "code",
   "execution_count": null,
   "metadata": {},
   "outputs": [],
   "source": [
    "# Remember, We will always get an error when we try to divide 0 by 0"
   ]
  },
  {
   "cell_type": "code",
   "execution_count": 43,
   "metadata": {
    "scrolled": false
   },
   "outputs": [
    {
     "data": {
      "text/plain": [
       "0       True\n",
       "1      False\n",
       "2       True\n",
       "3       True\n",
       "4       True\n",
       "       ...  \n",
       "507     True\n",
       "508     True\n",
       "509     True\n",
       "510     True\n",
       "511     True\n",
       "Length: 512, dtype: bool"
      ]
     },
     "execution_count": 43,
     "metadata": {},
     "output_type": "execute_result"
    }
   ],
   "source": [
    "# We will use the 'round' method to round up our percentage columns as per requirements\n",
    "# and then equate them to the formual provided to check for errors\n",
    "round(nba['FT%'],3) ==  round(nba['FT'] / nba['FTA'],3)"
   ]
  },
  {
   "cell_type": "code",
   "execution_count": 54,
   "metadata": {
    "scrolled": true
   },
   "outputs": [
    {
     "data": {
      "text/plain": [
       "True     480\n",
       "False     32\n",
       "dtype: int64"
      ]
     },
     "execution_count": 54,
     "metadata": {},
     "output_type": "execute_result"
    }
   ],
   "source": [
    "# We got a false value in the second row which is because we are dividing 0 by 0\n",
    "# We might have 'False' values other than these, so lets check how many 'False' values are there\n",
    "ft = round(nba['FT%'],3) == round(nba['FT'] / nba['FTA'],3)\n",
    "ft.value_counts()"
   ]
  },
  {
   "cell_type": "code",
   "execution_count": null,
   "metadata": {},
   "outputs": [],
   "source": [
    "# We can see that the 'False' values are same as the null values we encountered in this column\n",
    "# Hence we can proceed occured due to a division which is not possible"
   ]
  },
  {
   "cell_type": "code",
   "execution_count": 55,
   "metadata": {
    "scrolled": false
   },
   "outputs": [],
   "source": [
    "# We will now edit out 'FT%' column according to the formula\n",
    "# So that no other error is present\n",
    "nba['FT%'] = nba['FT'] / nba['FTA']"
   ]
  },
  {
   "cell_type": "code",
   "execution_count": 56,
   "metadata": {
    "scrolled": true
   },
   "outputs": [
    {
     "data": {
      "text/plain": [
       "0      0.543210\n",
       "1           NaN\n",
       "2      0.443038\n",
       "3      0.846561\n",
       "4      0.837838\n",
       "         ...   \n",
       "507    0.784810\n",
       "508    0.500000\n",
       "509    0.878049\n",
       "510    0.757576\n",
       "511    0.825581\n",
       "Name: FT%, Length: 512, dtype: float64"
      ]
     },
     "execution_count": 56,
     "metadata": {},
     "output_type": "execute_result"
    }
   ],
   "source": [
    "# Lets have a look at the edited column\n",
    "nba['FT%']"
   ]
  },
  {
   "cell_type": "code",
   "execution_count": 57,
   "metadata": {
    "scrolled": false
   },
   "outputs": [
    {
     "data": {
      "text/plain": [
       "0      0.543\n",
       "1      0.000\n",
       "2      0.443\n",
       "3      0.847\n",
       "4      0.838\n",
       "       ...  \n",
       "507    0.785\n",
       "508    0.500\n",
       "509    0.878\n",
       "510    0.758\n",
       "511    0.826\n",
       "Name: FT%, Length: 512, dtype: float64"
      ]
     },
     "execution_count": 57,
     "metadata": {},
     "output_type": "execute_result"
    }
   ],
   "source": [
    "# We are getting a 'NaN' value\n",
    "# Lets fill this 'NaN' value with 0 and round to 3 places\n",
    "nba['FT%'].fillna(0,inplace = True)\n",
    "nba['FT%'].round(3)"
   ]
  },
  {
   "cell_type": "code",
   "execution_count": 58,
   "metadata": {
    "scrolled": true
   },
   "outputs": [
    {
     "data": {
      "text/plain": [
       "True     480\n",
       "False     32\n",
       "dtype: int64"
      ]
     },
     "execution_count": 58,
     "metadata": {},
     "output_type": "execute_result"
    }
   ],
   "source": [
    "# Lets quickly check the count for 'True' & 'False' values\n",
    "ft.value_counts()"
   ]
  },
  {
   "cell_type": "code",
   "execution_count": null,
   "metadata": {},
   "outputs": [],
   "source": [
    "# As I told you earlier, 'False' values will be equal to the missing values in the column"
   ]
  },
  {
   "cell_type": "code",
   "execution_count": 49,
   "metadata": {},
   "outputs": [],
   "source": [
    "# Similarly we can do this for each percentage column\n",
    "# Lets quickly handle those columns too"
   ]
  },
  {
   "cell_type": "code",
   "execution_count": 59,
   "metadata": {},
   "outputs": [
    {
     "data": {
      "text/plain": [
       "True     505\n",
       "False      7\n",
       "dtype: int64"
      ]
     },
     "execution_count": 59,
     "metadata": {},
     "output_type": "execute_result"
    }
   ],
   "source": [
    "# Let see the '2P%' column\n",
    "p = round(nba['2P%'],3) == round(nba['2P'] / nba['2PA'],3)\n",
    "p.value_counts()"
   ]
  },
  {
   "cell_type": "code",
   "execution_count": 60,
   "metadata": {
    "scrolled": false
   },
   "outputs": [
    {
     "data": {
      "text/plain": [
       "0      0.579\n",
       "1      0.167\n",
       "2      0.618\n",
       "3      0.567\n",
       "4      0.509\n",
       "       ...  \n",
       "507    0.506\n",
       "508    0.643\n",
       "509    0.460\n",
       "510    0.569\n",
       "511    0.663\n",
       "Name: 2P%, Length: 512, dtype: float64"
      ]
     },
     "execution_count": 60,
     "metadata": {},
     "output_type": "execute_result"
    }
   ],
   "source": [
    "# We have 'False' values same as the 'Missing' values in the column \n",
    "#lets edit the columns so that no error occur later\n",
    "# We will also fill the 'NaN' values just for assurance\n",
    "nba['2P%'] = nba['2P'] / nba['2PA']\n",
    "nba['2P%'].fillna(0,inplace = True)\n",
    "nba['2P%'].round(3)"
   ]
  },
  {
   "cell_type": "code",
   "execution_count": 61,
   "metadata": {},
   "outputs": [
    {
     "data": {
      "text/plain": [
       "True     505\n",
       "False      7\n",
       "dtype: int64"
      ]
     },
     "execution_count": 61,
     "metadata": {},
     "output_type": "execute_result"
    }
   ],
   "source": [
    "p.value_counts()"
   ]
  },
  {
   "cell_type": "code",
   "execution_count": 62,
   "metadata": {
    "scrolled": false
   },
   "outputs": [
    {
     "data": {
      "text/plain": [
       "True     474\n",
       "False     38\n",
       "dtype: int64"
      ]
     },
     "execution_count": 62,
     "metadata": {},
     "output_type": "execute_result"
    }
   ],
   "source": [
    "# Now that we know what to do, lets quickly edit the other 2 columns\n",
    "P = round(nba['3P%'],3) == round(nba['3P'] / nba['3PA'],3)\n",
    "P.value_counts()"
   ]
  },
  {
   "cell_type": "code",
   "execution_count": 63,
   "metadata": {},
   "outputs": [],
   "source": [
    "# Here also the 'False' values are equal to the 'Missing' values"
   ]
  },
  {
   "cell_type": "code",
   "execution_count": 64,
   "metadata": {
    "scrolled": true
   },
   "outputs": [
    {
     "data": {
      "text/plain": [
       "0      0.000\n",
       "1      0.000\n",
       "2      0.000\n",
       "3      0.333\n",
       "4      0.360\n",
       "       ...  \n",
       "507    0.384\n",
       "508    0.227\n",
       "509    0.378\n",
       "510    0.158\n",
       "511    0.000\n",
       "Name: 3P%, Length: 512, dtype: float64"
      ]
     },
     "execution_count": 64,
     "metadata": {},
     "output_type": "execute_result"
    }
   ],
   "source": [
    "# apply further steps\n",
    "nba['3P%'] = nba['3P'] / nba['3PA']\n",
    "nba['3P%'].fillna(0,inplace = True)\n",
    "nba['3P%'].round(3)"
   ]
  },
  {
   "cell_type": "code",
   "execution_count": 65,
   "metadata": {
    "scrolled": true
   },
   "outputs": [
    {
     "data": {
      "text/plain": [
       "True     479\n",
       "False     33\n",
       "dtype: int64"
      ]
     },
     "execution_count": 65,
     "metadata": {},
     "output_type": "execute_result"
    }
   ],
   "source": [
    "# check again\n",
    "f = round(nba['3P%'],3) == round(nba['3P'] / nba['3PA'],3)\n",
    "f.value_counts()"
   ]
  },
  {
   "cell_type": "code",
   "execution_count": 66,
   "metadata": {},
   "outputs": [],
   "source": [
    "# Let's proceed futher"
   ]
  },
  {
   "cell_type": "code",
   "execution_count": 73,
   "metadata": {
    "scrolled": true
   },
   "outputs": [
    {
     "data": {
      "text/plain": [
       "True     509\n",
       "False      3\n",
       "dtype: int64"
      ]
     },
     "execution_count": 73,
     "metadata": {},
     "output_type": "execute_result"
    }
   ],
   "source": [
    "# Lets now consider the 'FG%' column and handle it as we handled other columns\n",
    "fg = round(nba['FG%'],3) == round(nba['FG'] / nba['FGA'],3)\n",
    "fg.value_counts()"
   ]
  },
  {
   "cell_type": "code",
   "execution_count": null,
   "metadata": {},
   "outputs": [],
   "source": [
    "# we get the same output we expected"
   ]
  },
  {
   "cell_type": "code",
   "execution_count": 71,
   "metadata": {
    "scrolled": false
   },
   "outputs": [
    {
     "data": {
      "text/plain": [
       "0      0.579\n",
       "1      0.125\n",
       "2      0.615\n",
       "3      0.563\n",
       "4      0.464\n",
       "       ...  \n",
       "507    0.468\n",
       "508    0.609\n",
       "509    0.430\n",
       "510    0.514\n",
       "511    0.659\n",
       "Name: FG%, Length: 512, dtype: float64"
      ]
     },
     "execution_count": 71,
     "metadata": {},
     "output_type": "execute_result"
    }
   ],
   "source": [
    "# For assurance lets equate the column to the formula and add the other steps also\n",
    "nba['FG%'] = nba['FG'] / nba['FGA']\n",
    "nba['FG%'].fillna(0,inplace = True)\n",
    "nba['FG%'].round(3)"
   ]
  },
  {
   "cell_type": "code",
   "execution_count": 74,
   "metadata": {},
   "outputs": [
    {
     "data": {
      "text/plain": [
       "True     509\n",
       "False      3\n",
       "dtype: int64"
      ]
     },
     "execution_count": 74,
     "metadata": {},
     "output_type": "execute_result"
    }
   ],
   "source": [
    "fg.value_counts()"
   ]
  },
  {
   "cell_type": "code",
   "execution_count": null,
   "metadata": {},
   "outputs": [],
   "source": [
    "# Great. Since we are done with the percentage column lets move ahead"
   ]
  },
  {
   "cell_type": "code",
   "execution_count": 75,
   "metadata": {
    "scrolled": true
   },
   "outputs": [
    {
     "data": {
      "text/plain": [
       "0        212\n",
       "1      20000\n",
       "2        265\n",
       "3        634\n",
       "4      28800\n",
       "       ...  \n",
       "507      310\n",
       "508      362\n",
       "509      897\n",
       "510      174\n",
       "511      311\n",
       "Name: PTS, Length: 512, dtype: int64"
      ]
     },
     "execution_count": 75,
     "metadata": {},
     "output_type": "execute_result"
    }
   ],
   "source": [
    "# Now lets have a look at our 'PTS' column\n",
    "nba['PTS']"
   ]
  },
  {
   "cell_type": "code",
   "execution_count": null,
   "metadata": {},
   "outputs": [],
   "source": [
    "# We see that we have values that exceed the limit given to us\n",
    "# We shall cross check the formula for calculating the total points"
   ]
  },
  {
   "cell_type": "code",
   "execution_count": 76,
   "metadata": {
    "scrolled": false
   },
   "outputs": [
    {
     "data": {
      "text/plain": [
       "0       True\n",
       "1      False\n",
       "2       True\n",
       "3       True\n",
       "4      False\n",
       "       ...  \n",
       "507     True\n",
       "508     True\n",
       "509     True\n",
       "510     True\n",
       "511     True\n",
       "Length: 512, dtype: bool"
      ]
     },
     "execution_count": 76,
     "metadata": {},
     "output_type": "execute_result"
    }
   ],
   "source": [
    "# Formula for calculating total point\n",
    "nba['PTS'] == nba['2P']*2 + nba['3P']*3 + nba['FT']"
   ]
  },
  {
   "cell_type": "code",
   "execution_count": 77,
   "metadata": {
    "scrolled": true
   },
   "outputs": [
    {
     "data": {
      "text/plain": [
       "False    510\n",
       "True       2\n",
       "Name: PTS, dtype: int64"
      ]
     },
     "execution_count": 77,
     "metadata": {},
     "output_type": "execute_result"
    }
   ],
   "source": [
    "# Lets see how many rows have the error values\n",
    "# We will create a new dataframe to count the number of 'True' & 'False' output with respect to the condition \n",
    "df = nba['PTS']>2000\n",
    "df.value_counts()"
   ]
  },
  {
   "cell_type": "code",
   "execution_count": 78,
   "metadata": {},
   "outputs": [],
   "source": [
    "# We have 2 values that need to be edited\n",
    "# These are also errors and need to be taken care of"
   ]
  },
  {
   "cell_type": "code",
   "execution_count": 79,
   "metadata": {},
   "outputs": [],
   "source": [
    "# Since we are getting some 'True' values above, we should use the formula given to us to handle the 'True' output\n",
    "nba['PTS'] = nba['2P']*2 + nba['3P']*3 + nba['FT']"
   ]
  },
  {
   "cell_type": "code",
   "execution_count": 80,
   "metadata": {
    "scrolled": true
   },
   "outputs": [
    {
     "data": {
      "text/plain": [
       "0      212\n",
       "1        2\n",
       "2      265\n",
       "3      634\n",
       "4      288\n",
       "      ... \n",
       "507    310\n",
       "508    362\n",
       "509    897\n",
       "510    174\n",
       "511    311\n",
       "Name: PTS, Length: 512, dtype: int64"
      ]
     },
     "execution_count": 80,
     "metadata": {},
     "output_type": "execute_result"
    }
   ],
   "source": [
    "# Check the column again\n",
    "nba['PTS']"
   ]
  },
  {
   "cell_type": "code",
   "execution_count": 81,
   "metadata": {
    "scrolled": true
   },
   "outputs": [
    {
     "data": {
      "text/plain": [
       "False    512\n",
       "Name: PTS, dtype: int64"
      ]
     },
     "execution_count": 81,
     "metadata": {},
     "output_type": "execute_result"
    }
   ],
   "source": [
    "# Lets check the values again\n",
    "df = nba['PTS']>2000\n",
    "df.value_counts()"
   ]
  },
  {
   "cell_type": "code",
   "execution_count": 82,
   "metadata": {},
   "outputs": [],
   "source": [
    "# We got the error rectified in the 'PTS' column"
   ]
  },
  {
   "cell_type": "code",
   "execution_count": 83,
   "metadata": {
    "scrolled": true
   },
   "outputs": [
    {
     "data": {
      "text/plain": [
       "1053"
      ]
     },
     "execution_count": 83,
     "metadata": {},
     "output_type": "execute_result"
    }
   ],
   "source": [
    "# Check for the Max and Min values so that no error occurs and we meet the requirements\n",
    "nba['PTS'].max()"
   ]
  },
  {
   "cell_type": "code",
   "execution_count": 84,
   "metadata": {
    "scrolled": true
   },
   "outputs": [
    {
     "data": {
      "text/plain": [
       "0"
      ]
     },
     "execution_count": 84,
     "metadata": {},
     "output_type": "execute_result"
    }
   ],
   "source": [
    "nba['PTS'].min()"
   ]
  },
  {
   "cell_type": "code",
   "execution_count": null,
   "metadata": {},
   "outputs": [],
   "source": [
    "# Now lets check for null values again just to be sure"
   ]
  },
  {
   "cell_type": "code",
   "execution_count": 85,
   "metadata": {},
   "outputs": [
    {
     "data": {
      "text/plain": [
       "Rk        0\n",
       "Player    0\n",
       "Pos       0\n",
       "Age       0\n",
       "Tm        0\n",
       "G         0\n",
       "GS        0\n",
       "MP        0\n",
       "FG        0\n",
       "FGA       0\n",
       "FG%       0\n",
       "3P        0\n",
       "3PA       0\n",
       "3P%       0\n",
       "2P        0\n",
       "2PA       0\n",
       "2P%       0\n",
       "FT        0\n",
       "FTA       0\n",
       "FT%       0\n",
       "ORB       0\n",
       "DRB       0\n",
       "TRB       0\n",
       "AST       0\n",
       "STL       0\n",
       "BLK       0\n",
       "TOV       0\n",
       "PF        0\n",
       "PTS       0\n",
       "dtype: int64"
      ]
     },
     "execution_count": 85,
     "metadata": {},
     "output_type": "execute_result"
    }
   ],
   "source": [
    "nba.isnull().sum()"
   ]
  },
  {
   "cell_type": "code",
   "execution_count": 86,
   "metadata": {},
   "outputs": [],
   "source": [
    "# We have cleaned our data\n",
    "# Lets save it"
   ]
  },
  {
   "cell_type": "code",
   "execution_count": 87,
   "metadata": {},
   "outputs": [],
   "source": [
    "nba.to_csv('cleaned_NBA_players_stats.csv', index=False)"
   ]
  },
  {
   "cell_type": "code",
   "execution_count": null,
   "metadata": {},
   "outputs": [],
   "source": []
  }
 ],
 "metadata": {
  "kernelspec": {
   "display_name": "Python 3",
   "language": "python",
   "name": "python3"
  },
  "language_info": {
   "codemirror_mode": {
    "name": "ipython",
    "version": 3
   },
   "file_extension": ".py",
   "mimetype": "text/x-python",
   "name": "python",
   "nbconvert_exporter": "python",
   "pygments_lexer": "ipython3",
   "version": "3.8.3"
  }
 },
 "nbformat": 4,
 "nbformat_minor": 4
}
